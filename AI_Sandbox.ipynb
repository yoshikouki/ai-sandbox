{
  "nbformat": 4,
  "nbformat_minor": 0,
  "metadata": {
    "colab": {
      "provenance": [],
      "mount_file_id": "10bXF6Yz3h-8qJcRrsuzKWP68GYpWH7t8",
      "authorship_tag": "ABX9TyMDIPYa7v65x6wbXL7kW2a4",
      "include_colab_link": true
    },
    "kernelspec": {
      "name": "python3",
      "display_name": "Python 3"
    },
    "language_info": {
      "name": "python"
    }
  },
  "cells": [
    {
      "cell_type": "markdown",
      "metadata": {
        "id": "view-in-github",
        "colab_type": "text"
      },
      "source": [
        "<a href=\"https://colab.research.google.com/github/yoshikouki/ai-sandbox/blob/main/AI_Sandbox.ipynb\" target=\"_parent\"><img src=\"https://colab.research.google.com/assets/colab-badge.svg\" alt=\"Open In Colab\"/></a>"
      ]
    },
    {
      "cell_type": "markdown",
      "source": [],
      "metadata": {
        "id": "_yX2qBb-Ssyw"
      }
    },
    {
      "cell_type": "code",
      "source": [
        "ws_dir = '/content/drive/MyDrive/Colab'\n",
        "git_repo_url = 'https://github.com/yoshikouki/ai-sandbox.git'\n",
        "\n",
        "if not 'git_user_email' in globals():\n",
        "  git_user_email = getpass.getpass(prompt='Please input your git email')\n",
        "if not 'git_user_name' in globals():\n",
        "  git_user_name = getpass.getpass(prompt='Please input your git name')\n",
        "\n"
      ],
      "metadata": {
        "id": "ZIv_j5DjTiPZ"
      },
      "execution_count": null,
      "outputs": []
    },
    {
      "cell_type": "markdown",
      "source": [],
      "metadata": {
        "id": "5izvoKXmS3Az"
      }
    },
    {
      "cell_type": "code",
      "execution_count": 3,
      "metadata": {
        "colab": {
          "base_uri": "https://localhost:8080/"
        },
        "id": "Iq2gzU7oQqwJ",
        "outputId": "286002cf-6bc5-4ef0-86da-77e868f49ff8"
      },
      "outputs": [
        {
          "output_type": "stream",
          "name": "stdout",
          "text": [
            "/content/drive/MyDrive/Colab\n",
            "Cloning into 'ai-sandbox'...\n",
            "remote: Enumerating objects: 4, done.\u001b[K\n",
            "remote: Counting objects: 100% (4/4), done.\u001b[K\n",
            "remote: Compressing objects: 100% (3/3), done.\u001b[K\n",
            "remote: Total 4 (delta 0), reused 0 (delta 0), pack-reused 0\u001b[K\n",
            "Unpacking objects: 100% (4/4), 1.57 KiB | 29.00 KiB/s, done.\n"
          ]
        }
      ],
      "source": [
        "%cd /content/drive/MyDrive/Colab/\n",
        "!git clone https://github.com/yoshikouki/ai-sandbox.git"
      ]
    },
    {
      "cell_type": "markdown",
      "source": [],
      "metadata": {
        "id": "IrzkVbfrTWFP"
      }
    },
    {
      "cell_type": "code",
      "source": [
        "from getpass import getpass\n"
      ],
      "metadata": {
        "id": "Gh2ljGqCTW58"
      },
      "execution_count": null,
      "outputs": []
    }
  ]
}