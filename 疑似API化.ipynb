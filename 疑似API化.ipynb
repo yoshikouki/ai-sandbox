{
  "nbformat": 4,
  "nbformat_minor": 0,
  "metadata": {
    "colab": {
      "provenance": [],
      "mount_file_id": "10bXF6Yz3h-8qJcRrsuzKWP68GYpWH7t8",
      "authorship_tag": "ABX9TyNswGjw/7pEWh53ImKVU+RE",
      "include_colab_link": true
    },
    "kernelspec": {
      "name": "python3",
      "display_name": "Python 3"
    },
    "language_info": {
      "name": "python"
    }
  },
  "cells": [
    {
      "cell_type": "markdown",
      "metadata": {
        "id": "view-in-github",
        "colab_type": "text"
      },
      "source": [
        "<a href=\"https://colab.research.google.com/github/yoshikouki/ai-sandbox/blob/main/%E7%96%91%E4%BC%BCAPI%E5%8C%96.ipynb\" target=\"_parent\"><img src=\"https://colab.research.google.com/assets/colab-badge.svg\" alt=\"Open In Colab\"/></a>"
      ]
    },
    {
      "cell_type": "markdown",
      "source": [
        "OpenAI の APIキーを入力する"
      ],
      "metadata": {
        "id": "_yX2qBb-Ssyw"
      }
    },
    {
      "cell_type": "code",
      "source": [
        "from getpass import getpass\n",
        "openai_api_key = getpass('Enter your OpenAI API key: ')\n",
        "\n",
        "# OpenAI の API キーをセット\n",
        "import os\n",
        "os.environ[\"OPENAI_API_KEY\"] = openai_api_key"
      ],
      "metadata": {
        "colab": {
          "base_uri": "https://localhost:8080/"
        },
        "id": "ZIv_j5DjTiPZ",
        "outputId": "cdf022c7-2f15-439a-e45f-0ac86cf47086"
      },
      "execution_count": 7,
      "outputs": [
        {
          "name": "stdout",
          "output_type": "stream",
          "text": [
            "Enter your OpenAI API key: ··········\n"
          ]
        }
      ]
    },
    {
      "cell_type": "markdown",
      "source": [],
      "metadata": {
        "id": "5izvoKXmS3Az"
      }
    },
    {
      "cell_type": "code",
      "execution_count": 22,
      "metadata": {
        "colab": {
          "base_uri": "https://localhost:8080/"
        },
        "id": "Iq2gzU7oQqwJ",
        "outputId": "0def98e4-1faf-4911-862c-3cb544ce494f"
      },
      "outputs": [
        {
          "output_type": "stream",
          "name": "stdout",
          "text": [
            "OK\n"
          ]
        }
      ],
      "source": [
        "!pip install -q openai langchain && echo \"OK\""
      ]
    },
    {
      "cell_type": "markdown",
      "source": [],
      "metadata": {
        "id": "IrzkVbfrTWFP"
      }
    },
    {
      "cell_type": "code",
      "source": [
        "from langchain.chat_models import ChatOpenAI\n",
        "\n",
        "chat = ChatOpenAI(temperature=0)\n",
        "\n",
        "from langchain.schema import (\n",
        "    AIMessage,\n",
        "    HumanMessage,\n",
        "    SystemMessage\n",
        ")\n",
        "\n",
        "system_message=\"\"\"\n",
        "You are an API that provides a company overview of U.S. stocks.\n",
        "The request is passed as an array of U.S. stock symbols in JSON format.\n",
        "The response should be in JSON key-value format, where key is the symbol of the U.S. stock and value is the brief company profile.\n",
        "The company profile should be written in Japanese.\n",
        "\"\"\"\n",
        "\n",
        "human_message=\"\"\"\n",
        "['XOM', 'T', 'MS', 'AAPL']\n",
        "\"\"\"\n",
        "chat([\n",
        "    SystemMessage(content=system_message),\n",
        "    HumanMessage(content=human_message),\n",
        "])"
      ],
      "metadata": {
        "colab": {
          "base_uri": "https://localhost:8080/"
        },
        "id": "Gh2ljGqCTW58",
        "outputId": "5f87504d-1c1b-4c51-9d21-9b127eb82ec5"
      },
      "execution_count": 20,
      "outputs": [
        {
          "output_type": "execute_result",
          "data": {
            "text/plain": [
              "AIMessage(content='{\\n  \"XOM\": \"エクソンモービルは、石油・天然ガスの探査、生産、精製、販売を行うアメリカの総合エネルギー企業です。\",\\n  \"T\": \"AT&Tは、アメリカの通信会社であり、携帯電話、固定電話、ブロードバンド、テレビサービスを提供しています。\",\\n  \"MS\": \"モルガン・スタンレーは、アメリカの金融サービス企業であり、投資銀行業務、証券取引、資産管理などを行っています。\",\\n  \"AAPL\": \"アップルは、アメリカのテクノロジー企業であり、スマートフォン、コンピュータ、ウェアラブルデバイスなどを', additional_kwargs={})"
            ]
          },
          "metadata": {},
          "execution_count": 20
        }
      ]
    }
  ]
}